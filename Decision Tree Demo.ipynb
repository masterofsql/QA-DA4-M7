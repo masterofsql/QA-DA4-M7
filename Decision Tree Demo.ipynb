{
 "cells": [
  {
   "cell_type": "markdown",
   "id": "9ecc5f7d",
   "metadata": {},
   "source": [
    "# Decision Tree Demo"
   ]
  },
  {
   "cell_type": "markdown",
   "id": "14bd7b99",
   "metadata": {},
   "source": [
    "<hr style='border:1px solid black'>"
   ]
  },
  {
   "cell_type": "markdown",
   "id": "5d276121",
   "metadata": {},
   "source": [
    "## Import libraries"
   ]
  },
  {
   "cell_type": "code",
   "execution_count": null,
   "id": "2228d657",
   "metadata": {},
   "outputs": [],
   "source": [
    "import pandas as pd\n",
    "from sklearn.model_selection import train_test_split\n",
    "from sklearn.preprocessing import StandardScaler\n",
    "from sklearn.tree import DecisionTreeClassifier\n",
    "from sklearn import tree\n",
    "from sklearn.metrics import accuracy_score\n",
    "from sklearn.metrics import confusion_matrix\n",
    "from sklearn.metrics import classification_report\n",
    "import matplotlib.pyplot as plt"
   ]
  },
  {
   "cell_type": "markdown",
   "id": "28e56f04",
   "metadata": {},
   "source": [
    "<hr style='border:1px solid black'>"
   ]
  },
  {
   "cell_type": "markdown",
   "id": "22e1d74c",
   "metadata": {},
   "source": [
    "## Load data\n",
    "choose your data source by uncommenting one of the sections below"
   ]
  },
  {
   "cell_type": "markdown",
   "id": "3233fa26",
   "metadata": {},
   "source": [
    "### ...from local file"
   ]
  },
  {
   "cell_type": "code",
   "execution_count": null,
   "id": "b1a981f4",
   "metadata": {},
   "outputs": [],
   "source": [
    "#data = pd.read_csv('data_phones.csv')"
   ]
  },
  {
   "cell_type": "markdown",
   "id": "147d4705",
   "metadata": {},
   "source": [
    "### ...from Azure\n",
    "(to run this code, you must select **Python 3.XX - SDK v2** kernel"
   ]
  },
  {
   "cell_type": "code",
   "execution_count": null,
   "id": "603830f6",
   "metadata": {},
   "outputs": [],
   "source": [
    "#from azure.ai.ml import MLClient\n",
    "#from azure.identity import DefaultAzureCredential\n",
    "#ml_client = MLClient.from_config(credential=DefaultAzureCredential())\n",
    "#data_asset = ml_client.data.get('data_phones', version='1')\n",
    "#data = pd.read_csv(data_asset.path)"
   ]
  },
  {
   "cell_type": "markdown",
   "id": "31c723b3",
   "metadata": {},
   "source": [
    "### ...from Databricks FileStore"
   ]
  },
  {
   "cell_type": "code",
   "execution_count": null,
   "id": "27e11eb8",
   "metadata": {},
   "outputs": [],
   "source": [
    "#data = pd.read_csv('/dbfs/FileStore/tables/data_phones.csv')"
   ]
  },
  {
   "cell_type": "markdown",
   "id": "f6e48a2a",
   "metadata": {},
   "source": [
    "### ...from Databricks FileStore (option 2)"
   ]
  },
  {
   "cell_type": "code",
   "execution_count": null,
   "id": "5c458753",
   "metadata": {},
   "outputs": [],
   "source": [
    "#data = spark.read.csv('/FileStore/tables/data_phones.csv', inferSchema=True, header=True, sep=',')\n",
    "#data = data.toPandas()"
   ]
  },
  {
   "cell_type": "markdown",
   "id": "d367299f",
   "metadata": {},
   "source": [
    "### ...from Databricks FileStore (option 2)"
   ]
  },
  {
   "cell_type": "code",
   "execution_count": null,
   "id": "eed04270",
   "metadata": {},
   "outputs": [],
   "source": [
    "#data = spark.read.format('csv') \\\n",
    "#  .option('inferSchema', 'false') \\\n",
    "#  .option('header', 'true') \\\n",
    "#  .option('sep', ',') \\\n",
    "#  .load('/FileStore/tables/data_phones.csv')\n",
    "#data = data.toPandas()"
   ]
  },
  {
   "cell_type": "markdown",
   "id": "1cc71430",
   "metadata": {},
   "source": [
    "### ...from Databricks Catalog"
   ]
  },
  {
   "cell_type": "code",
   "execution_count": null,
   "id": "4e57c553",
   "metadata": {},
   "outputs": [],
   "source": [
    "#%sql\n",
    "#SELECT * FROM `catalog1`.`schema1`.`data_phones`;"
   ]
  },
  {
   "cell_type": "code",
   "execution_count": null,
   "id": "a1841eea",
   "metadata": {},
   "outputs": [],
   "source": [
    "#%python\n",
    "#data = _sqldf.toPandas()"
   ]
  },
  {
   "cell_type": "markdown",
   "id": "ad982ea8",
   "metadata": {},
   "source": [
    "### ...from Databricks Catalog (option 2)"
   ]
  },
  {
   "cell_type": "code",
   "execution_count": null,
   "id": "97a3fe61",
   "metadata": {},
   "outputs": [],
   "source": [
    "#data = spark.sql('SELECT * FROM catalog1.schema1.data_phones').toPandas()"
   ]
  },
  {
   "cell_type": "markdown",
   "id": "58e6fefb",
   "metadata": {},
   "source": [
    "### ...from Databricks Catalog (option 3)"
   ]
  },
  {
   "cell_type": "code",
   "execution_count": null,
   "id": "74e13835",
   "metadata": {},
   "outputs": [],
   "source": [
    "#data = spark.table('catalog1.schema1.data_phones').toPandas()\n",
    "#data = spark.read.table('catalog1.schema1.data_phones').toPandas()"
   ]
  },
  {
   "cell_type": "markdown",
   "id": "fd048b7f",
   "metadata": {},
   "source": [
    "### Check if dataset has been loaded"
   ]
  },
  {
   "cell_type": "code",
   "execution_count": null,
   "id": "2f0c191d",
   "metadata": {},
   "outputs": [],
   "source": [
    "class StopExecution(Exception):\n",
    "    def _render_traceback_(self):\n",
    "        return []\n",
    "\n",
    "if 'data' not in locals():\n",
    "    print('NO DATA LOADED - USE ONE OF THE SECTIONS ABOVE TO LOAD THE DATASET!')\n",
    "    raise StopExecution\n",
    "    \n",
    "del StopExecution\n",
    "print('Dataset has been loaded successfully')"
   ]
  },
  {
   "cell_type": "markdown",
   "id": "db07292e",
   "metadata": {},
   "source": [
    "<hr style='border:1px solid black'>"
   ]
  },
  {
   "cell_type": "markdown",
   "id": "aa941a45",
   "metadata": {},
   "source": [
    "## Preview and prepare"
   ]
  },
  {
   "cell_type": "markdown",
   "id": "81e88388",
   "metadata": {},
   "source": [
    "### Preview the data"
   ]
  },
  {
   "cell_type": "code",
   "execution_count": null,
   "id": "aae959c9",
   "metadata": {},
   "outputs": [],
   "source": [
    "print('Data dimensions:', data.shape)\n",
    "data = data.dropna()\n",
    "print('Data dimensions:', data.shape)\n",
    "data.head()"
   ]
  },
  {
   "cell_type": "markdown",
   "id": "85367e5c",
   "metadata": {},
   "source": [
    "### Split the dataset into training and testing sets"
   ]
  },
  {
   "cell_type": "code",
   "execution_count": null,
   "id": "ccd3ef0d",
   "metadata": {},
   "outputs": [],
   "source": [
    "X = data.drop('price_range', axis=1)\n",
    "y = data['price_range']\n",
    "X_train, X_test, y_train, y_test = train_test_split(\n",
    "    X, y, test_size=0.2, random_state=42)\n",
    "del data, X, y, train_test_split"
   ]
  },
  {
   "cell_type": "markdown",
   "id": "5f4e30c4",
   "metadata": {},
   "source": [
    "### Scale numeric values"
   ]
  },
  {
   "cell_type": "code",
   "execution_count": null,
   "id": "967ebc1c",
   "metadata": {},
   "outputs": [],
   "source": [
    "scaler = StandardScaler()\n",
    "X_train_scaled = scaler.fit_transform(X_train)\n",
    "X_test_scaled  = scaler.transform(X_test)\n",
    "X_train_scaled = pd.DataFrame(X_train_scaled).reset_index(drop=True)\n",
    "X_test_scaled  = pd.DataFrame(X_test_scaled).reset_index(drop=True)\n",
    "del pd, scaler, StandardScaler, X_test, X_train"
   ]
  },
  {
   "cell_type": "markdown",
   "id": "2bbc3f54",
   "metadata": {},
   "source": [
    "<hr style='border:1px solid black'>"
   ]
  },
  {
   "cell_type": "markdown",
   "id": "5412b23b",
   "metadata": {},
   "source": [
    "## Build Decision Tree"
   ]
  },
  {
   "cell_type": "code",
   "execution_count": null,
   "id": "d28d2cda",
   "metadata": {},
   "outputs": [],
   "source": [
    "model = DecisionTreeClassifier(max_depth=5, random_state=42).fit(X_train_scaled, y_train)\n",
    "model"
   ]
  },
  {
   "cell_type": "markdown",
   "id": "a86903f6",
   "metadata": {},
   "source": [
    "<hr style='border:1px solid black'>"
   ]
  },
  {
   "cell_type": "markdown",
   "id": "3102f552",
   "metadata": {},
   "source": [
    "## Generate predictions"
   ]
  },
  {
   "cell_type": "code",
   "execution_count": null,
   "id": "2d886d71",
   "metadata": {},
   "outputs": [],
   "source": [
    "y_pred = model.predict(X_test_scaled)\n",
    "del DecisionTreeClassifier\n",
    "del X_test_scaled, X_train_scaled, y_train"
   ]
  },
  {
   "cell_type": "markdown",
   "id": "306826e5",
   "metadata": {},
   "source": [
    "<hr style='border:1px solid black'>"
   ]
  },
  {
   "cell_type": "markdown",
   "id": "8261798b",
   "metadata": {},
   "source": [
    "## Visualise the tree..."
   ]
  },
  {
   "cell_type": "code",
   "execution_count": null,
   "id": "923a21d5",
   "metadata": {},
   "outputs": [],
   "source": [
    "#\n",
    "# Useful source\n",
    "# https://mljar.com/blog/visualize-decision-tree/\n",
    "#"
   ]
  },
  {
   "cell_type": "markdown",
   "id": "a0351177",
   "metadata": {},
   "source": [
    "### ...as a text"
   ]
  },
  {
   "cell_type": "code",
   "execution_count": null,
   "id": "2f8c6a9c",
   "metadata": {},
   "outputs": [],
   "source": [
    "print(tree.export_text(model))"
   ]
  },
  {
   "cell_type": "markdown",
   "id": "ac5e0ed5",
   "metadata": {},
   "source": [
    "### ...as an image"
   ]
  },
  {
   "cell_type": "code",
   "execution_count": null,
   "id": "cbff7a91",
   "metadata": {},
   "outputs": [],
   "source": [
    "fig = plt.figure(figsize=(25,20))\n",
    "_ = tree.plot_tree(model, filled=True)\n",
    "del tree, fig\n",
    "del model\n",
    "#feature_names=iris.feature_names,  \n",
    "#class_names=iris.target_names,               "
   ]
  },
  {
   "cell_type": "markdown",
   "id": "6bbf450f",
   "metadata": {},
   "source": [
    "<hr style='border:1px solid black'>"
   ]
  },
  {
   "cell_type": "markdown",
   "id": "8541d3a5",
   "metadata": {},
   "source": [
    "## Evaluate the model"
   ]
  },
  {
   "cell_type": "markdown",
   "id": "9e24d17b",
   "metadata": {},
   "source": [
    "### Calculate accuracy"
   ]
  },
  {
   "cell_type": "code",
   "execution_count": null,
   "id": "9af1d16a",
   "metadata": {},
   "outputs": [],
   "source": [
    "y_test_reset = y_test.reset_index(drop=True)\n",
    "print('Accuracy of the model:', accuracy_score(y_pred, y_test_reset))\n",
    "del accuracy_score, y_test_reset"
   ]
  },
  {
   "cell_type": "markdown",
   "id": "10350516",
   "metadata": {},
   "source": [
    "### Build confusion matrix"
   ]
  },
  {
   "cell_type": "code",
   "execution_count": null,
   "id": "ab3b1368",
   "metadata": {},
   "outputs": [],
   "source": [
    "cm = confusion_matrix(y_test, y_pred)\n",
    "del confusion_matrix\n",
    "cm"
   ]
  },
  {
   "cell_type": "markdown",
   "id": "a148ecb7",
   "metadata": {},
   "source": [
    "### Build confusion matrix heatmap"
   ]
  },
  {
   "cell_type": "code",
   "execution_count": null,
   "id": "6345e7a0",
   "metadata": {},
   "outputs": [],
   "source": [
    "plt.imshow(cm, cmap='YlGnBu')\n",
    "plt.xticks([0,1,2,3], fontsize=12)\n",
    "plt.yticks([0,1,2,3], fontsize=12)\n",
    "plt.xlabel('Actual Class', fontsize=16)\n",
    "plt.ylabel('Predicted Class', fontsize=16)\n",
    "plt.title('Confusion Matrix', fontsize=18)\n",
    "for i in range(cm.shape[0]):\n",
    "    for j in range(cm.shape[1]):\n",
    "        if (i == j):\n",
    "            colour = 'white'\n",
    "        else:\n",
    "            colour = 'brown'\n",
    "        plt.text(i, j, cm[j,i],\n",
    "                 ha='center', va='center',\n",
    "                 fontsize=16, color=colour)\n",
    "plt.colorbar()\n",
    "plt.show()\n",
    "del plt, i, j, colour\n",
    "del cm\n",
    "#\n",
    "# seaborn heatmap:\n",
    "# sns.heatmap(cm, annot=True, fmt='d', cmap='YlGnBu')"
   ]
  },
  {
   "cell_type": "markdown",
   "id": "9afaa8fa",
   "metadata": {},
   "source": [
    "### Classification Report"
   ]
  },
  {
   "cell_type": "code",
   "execution_count": null,
   "id": "18871949",
   "metadata": {},
   "outputs": [],
   "source": [
    "print(classification_report(y_test, y_pred))\n",
    "del classification_report\n",
    "del y_test, y_pred"
   ]
  },
  {
   "cell_type": "markdown",
   "id": "039296d9",
   "metadata": {},
   "source": [
    "<hr style='border:1px solid black'>"
   ]
  },
  {
   "cell_type": "markdown",
   "id": "52608847",
   "metadata": {},
   "source": [
    "## Conclusion"
   ]
  },
  {
   "cell_type": "code",
   "execution_count": null,
   "id": "b02123e4",
   "metadata": {},
   "outputs": [],
   "source": [
    "#\n",
    "# Not only you executed this notebook in the cloud -\n",
    "# but you also loaded it (and its data) from the cloud\n",
    "#"
   ]
  },
  {
   "cell_type": "markdown",
   "id": "82398a41",
   "metadata": {},
   "source": [
    "<hr style='border:1px solid black'>"
   ]
  },
  {
   "cell_type": "markdown",
   "id": "203bba2b",
   "metadata": {},
   "source": [
    "## Advanced Task 1 (OPTIONAL)"
   ]
  },
  {
   "cell_type": "code",
   "execution_count": null,
   "id": "206048e6",
   "metadata": {},
   "outputs": [],
   "source": [
    "#\n",
    "# Find out if class 0 is the cheapest or the most\n",
    "# expensive one (by using statistical measures)\n",
    "#"
   ]
  },
  {
   "cell_type": "markdown",
   "id": "fa586a2c",
   "metadata": {},
   "source": [
    "## Advanced Task 2 (OPTIONAL)"
   ]
  },
  {
   "cell_type": "code",
   "execution_count": null,
   "id": "9b3ecde7",
   "metadata": {},
   "outputs": [],
   "source": [
    "#\n",
    "# Downsample dataset to have exactly the same number\n",
    "# of training data points in each price band, and see\n",
    "# if it that improves model accuracy\n",
    "#"
   ]
  }
 ],
 "metadata": {
  "kernelspec": {
   "display_name": "Python 3 (ipykernel)",
   "language": "python",
   "name": "python3"
  },
  "language_info": {
   "codemirror_mode": {
    "name": "ipython",
    "version": 3
   },
   "file_extension": ".py",
   "mimetype": "text/x-python",
   "name": "python",
   "nbconvert_exporter": "python",
   "pygments_lexer": "ipython3",
   "version": "3.10.9"
  }
 },
 "nbformat": 4,
 "nbformat_minor": 5
}
